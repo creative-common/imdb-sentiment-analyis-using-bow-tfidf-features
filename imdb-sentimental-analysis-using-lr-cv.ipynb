{
 "cells": [
  {
   "cell_type": "markdown",
   "id": "collected-thomas",
   "metadata": {
    "id": "w7NZqJdaXP9L",
    "papermill": {
     "duration": 0.020107,
     "end_time": "2021-04-14T02:11:15.348615",
     "exception": false,
     "start_time": "2021-04-14T02:11:15.328508",
     "status": "completed"
    },
    "tags": []
   },
   "source": [
    "# IMDB Sentimental Analysis "
   ]
  },
  {
   "cell_type": "markdown",
   "id": "overall-buffalo",
   "metadata": {
    "id": "wURkyFEGoYXh",
    "papermill": {
     "duration": 0.018511,
     "end_time": "2021-04-14T02:11:15.386604",
     "exception": false,
     "start_time": "2021-04-14T02:11:15.368093",
     "status": "completed"
    },
    "tags": []
   },
   "source": [
    "## Step 1: Loading the dataset"
   ]
  },
  {
   "cell_type": "code",
   "execution_count": 1,
   "id": "grave-expert",
   "metadata": {
    "execution": {
     "iopub.execute_input": "2021-04-14T02:11:15.430721Z",
     "iopub.status.busy": "2021-04-14T02:11:15.429946Z",
     "iopub.status.idle": "2021-04-14T02:11:17.112030Z",
     "shell.execute_reply": "2021-04-14T02:11:17.112542Z"
    },
    "id": "lSTcQZxvW23C",
    "outputId": "0bc2cbc8-2997-4e2b-dc01-dcdadc9e131b",
    "papermill": {
     "duration": 1.707279,
     "end_time": "2021-04-14T02:11:17.112861",
     "exception": false,
     "start_time": "2021-04-14T02:11:15.405582",
     "status": "completed"
    },
    "tags": []
   },
   "outputs": [
    {
     "data": {
      "text/html": [
       "<div>\n",
       "<style scoped>\n",
       "    .dataframe tbody tr th:only-of-type {\n",
       "        vertical-align: middle;\n",
       "    }\n",
       "\n",
       "    .dataframe tbody tr th {\n",
       "        vertical-align: top;\n",
       "    }\n",
       "\n",
       "    .dataframe thead th {\n",
       "        text-align: right;\n",
       "    }\n",
       "</style>\n",
       "<table border=\"1\" class=\"dataframe\">\n",
       "  <thead>\n",
       "    <tr style=\"text-align: right;\">\n",
       "      <th></th>\n",
       "      <th>review</th>\n",
       "      <th>sentiment</th>\n",
       "    </tr>\n",
       "  </thead>\n",
       "  <tbody>\n",
       "    <tr>\n",
       "      <th>0</th>\n",
       "      <td>One of the other reviewers has mentioned that ...</td>\n",
       "      <td>positive</td>\n",
       "    </tr>\n",
       "    <tr>\n",
       "      <th>1</th>\n",
       "      <td>A wonderful little production. &lt;br /&gt;&lt;br /&gt;The...</td>\n",
       "      <td>positive</td>\n",
       "    </tr>\n",
       "    <tr>\n",
       "      <th>2</th>\n",
       "      <td>I thought this was a wonderful way to spend ti...</td>\n",
       "      <td>positive</td>\n",
       "    </tr>\n",
       "    <tr>\n",
       "      <th>3</th>\n",
       "      <td>Basically there's a family where a little boy ...</td>\n",
       "      <td>negative</td>\n",
       "    </tr>\n",
       "    <tr>\n",
       "      <th>4</th>\n",
       "      <td>Petter Mattei's \"Love in the Time of Money\" is...</td>\n",
       "      <td>positive</td>\n",
       "    </tr>\n",
       "    <tr>\n",
       "      <th>5</th>\n",
       "      <td>Probably my all-time favorite movie, a story o...</td>\n",
       "      <td>positive</td>\n",
       "    </tr>\n",
       "    <tr>\n",
       "      <th>6</th>\n",
       "      <td>I sure would like to see a resurrection of a u...</td>\n",
       "      <td>positive</td>\n",
       "    </tr>\n",
       "    <tr>\n",
       "      <th>7</th>\n",
       "      <td>This show was an amazing, fresh &amp; innovative i...</td>\n",
       "      <td>negative</td>\n",
       "    </tr>\n",
       "    <tr>\n",
       "      <th>8</th>\n",
       "      <td>Encouraged by the positive comments about this...</td>\n",
       "      <td>negative</td>\n",
       "    </tr>\n",
       "    <tr>\n",
       "      <th>9</th>\n",
       "      <td>If you like original gut wrenching laughter yo...</td>\n",
       "      <td>positive</td>\n",
       "    </tr>\n",
       "  </tbody>\n",
       "</table>\n",
       "</div>"
      ],
      "text/plain": [
       "                                              review sentiment\n",
       "0  One of the other reviewers has mentioned that ...  positive\n",
       "1  A wonderful little production. <br /><br />The...  positive\n",
       "2  I thought this was a wonderful way to spend ti...  positive\n",
       "3  Basically there's a family where a little boy ...  negative\n",
       "4  Petter Mattei's \"Love in the Time of Money\" is...  positive\n",
       "5  Probably my all-time favorite movie, a story o...  positive\n",
       "6  I sure would like to see a resurrection of a u...  positive\n",
       "7  This show was an amazing, fresh & innovative i...  negative\n",
       "8  Encouraged by the positive comments about this...  negative\n",
       "9  If you like original gut wrenching laughter yo...  positive"
      ]
     },
     "execution_count": 1,
     "metadata": {},
     "output_type": "execute_result"
    }
   ],
   "source": [
    "import pandas as pd\n",
    "df = pd.read_csv('/kaggle/input/imdb-dataset-of-50k-movie-reviews/IMDB Dataset.csv')\n",
    "\n",
    "\n",
    "df.head(10)"
   ]
  },
  {
   "cell_type": "code",
   "execution_count": 2,
   "id": "manufactured-string",
   "metadata": {
    "execution": {
     "iopub.execute_input": "2021-04-14T02:11:17.156037Z",
     "iopub.status.busy": "2021-04-14T02:11:17.155384Z",
     "iopub.status.idle": "2021-04-14T02:11:17.165615Z",
     "shell.execute_reply": "2021-04-14T02:11:17.166160Z"
    },
    "id": "pu7SAZ6Woreq",
    "outputId": "8dfaecb8-0fd2-4f24-939a-b2f702680910",
    "papermill": {
     "duration": 0.033177,
     "end_time": "2021-04-14T02:11:17.166349",
     "exception": false,
     "start_time": "2021-04-14T02:11:17.133172",
     "status": "completed"
    },
    "tags": []
   },
   "outputs": [
    {
     "data": {
      "text/html": [
       "<div>\n",
       "<style scoped>\n",
       "    .dataframe tbody tr th:only-of-type {\n",
       "        vertical-align: middle;\n",
       "    }\n",
       "\n",
       "    .dataframe tbody tr th {\n",
       "        vertical-align: top;\n",
       "    }\n",
       "\n",
       "    .dataframe thead th {\n",
       "        text-align: right;\n",
       "    }\n",
       "</style>\n",
       "<table border=\"1\" class=\"dataframe\">\n",
       "  <thead>\n",
       "    <tr style=\"text-align: right;\">\n",
       "      <th></th>\n",
       "      <th>review</th>\n",
       "      <th>sentiment</th>\n",
       "    </tr>\n",
       "  </thead>\n",
       "  <tbody>\n",
       "    <tr>\n",
       "      <th>0</th>\n",
       "      <td>One of the other reviewers has mentioned that ...</td>\n",
       "      <td>positive</td>\n",
       "    </tr>\n",
       "    <tr>\n",
       "      <th>1</th>\n",
       "      <td>A wonderful little production. &lt;br /&gt;&lt;br /&gt;The...</td>\n",
       "      <td>positive</td>\n",
       "    </tr>\n",
       "    <tr>\n",
       "      <th>2</th>\n",
       "      <td>I thought this was a wonderful way to spend ti...</td>\n",
       "      <td>positive</td>\n",
       "    </tr>\n",
       "    <tr>\n",
       "      <th>3</th>\n",
       "      <td>Basically there's a family where a little boy ...</td>\n",
       "      <td>negative</td>\n",
       "    </tr>\n",
       "    <tr>\n",
       "      <th>4</th>\n",
       "      <td>Petter Mattei's \"Love in the Time of Money\" is...</td>\n",
       "      <td>positive</td>\n",
       "    </tr>\n",
       "    <tr>\n",
       "      <th>5</th>\n",
       "      <td>Probably my all-time favorite movie, a story o...</td>\n",
       "      <td>positive</td>\n",
       "    </tr>\n",
       "    <tr>\n",
       "      <th>6</th>\n",
       "      <td>I sure would like to see a resurrection of a u...</td>\n",
       "      <td>positive</td>\n",
       "    </tr>\n",
       "    <tr>\n",
       "      <th>7</th>\n",
       "      <td>This show was an amazing, fresh &amp; innovative i...</td>\n",
       "      <td>negative</td>\n",
       "    </tr>\n",
       "    <tr>\n",
       "      <th>8</th>\n",
       "      <td>Encouraged by the positive comments about this...</td>\n",
       "      <td>negative</td>\n",
       "    </tr>\n",
       "    <tr>\n",
       "      <th>9</th>\n",
       "      <td>If you like original gut wrenching laughter yo...</td>\n",
       "      <td>positive</td>\n",
       "    </tr>\n",
       "  </tbody>\n",
       "</table>\n",
       "</div>"
      ],
      "text/plain": [
       "                                              review sentiment\n",
       "0  One of the other reviewers has mentioned that ...  positive\n",
       "1  A wonderful little production. <br /><br />The...  positive\n",
       "2  I thought this was a wonderful way to spend ti...  positive\n",
       "3  Basically there's a family where a little boy ...  negative\n",
       "4  Petter Mattei's \"Love in the Time of Money\" is...  positive\n",
       "5  Probably my all-time favorite movie, a story o...  positive\n",
       "6  I sure would like to see a resurrection of a u...  positive\n",
       "7  This show was an amazing, fresh & innovative i...  negative\n",
       "8  Encouraged by the positive comments about this...  negative\n",
       "9  If you like original gut wrenching laughter yo...  positive"
      ]
     },
     "execution_count": 2,
     "metadata": {},
     "output_type": "execute_result"
    }
   ],
   "source": [
    "df.head(10)"
   ]
  },
  {
   "cell_type": "code",
   "execution_count": 3,
   "id": "given-intro",
   "metadata": {
    "execution": {
     "iopub.execute_input": "2021-04-14T02:11:17.228104Z",
     "iopub.status.busy": "2021-04-14T02:11:17.227094Z",
     "iopub.status.idle": "2021-04-14T02:11:17.232243Z",
     "shell.execute_reply": "2021-04-14T02:11:17.231454Z"
    },
    "papermill": {
     "duration": 0.045849,
     "end_time": "2021-04-14T02:11:17.232396",
     "exception": false,
     "start_time": "2021-04-14T02:11:17.186547",
     "status": "completed"
    },
    "tags": []
   },
   "outputs": [
    {
     "data": {
      "text/plain": [
       "negative    25000\n",
       "positive    25000\n",
       "Name: sentiment, dtype: int64"
      ]
     },
     "execution_count": 3,
     "metadata": {},
     "output_type": "execute_result"
    }
   ],
   "source": [
    "df['sentiment'].value_counts()"
   ]
  },
  {
   "cell_type": "code",
   "execution_count": 4,
   "id": "distant-experiment",
   "metadata": {
    "execution": {
     "iopub.execute_input": "2021-04-14T02:11:17.282704Z",
     "iopub.status.busy": "2021-04-14T02:11:17.281876Z",
     "iopub.status.idle": "2021-04-14T02:11:18.452588Z",
     "shell.execute_reply": "2021-04-14T02:11:18.451859Z"
    },
    "id": "UCAVBJTrJevB",
    "outputId": "48378d92-98c9-4c56-a92e-77a62fb7bb2d",
    "papermill": {
     "duration": 1.197693,
     "end_time": "2021-04-14T02:11:18.452740",
     "exception": false,
     "start_time": "2021-04-14T02:11:17.255047",
     "status": "completed"
    },
    "tags": []
   },
   "outputs": [
    {
     "name": "stdout",
     "output_type": "stream",
     "text": [
      "{'the': 6, 'sun': 4, 'is': 1, 'shining': 3, 'weather': 8, 'sweet': 5, 'and': 0, 'one': 2, 'two': 7}\n",
      "[[0 1 0 1 1 0 1 0 0]\n",
      " [0 1 0 0 0 1 1 0 1]\n",
      " [2 3 2 1 1 1 2 1 1]]\n"
     ]
    }
   ],
   "source": [
    "import numpy as np\n",
    "from sklearn.feature_extraction.text import CountVectorizer\n",
    "\n",
    "count = CountVectorizer()\n",
    "docs = (['The sun is shining',\n",
    "         'The weather is sweet',\n",
    "         'The sun is shining, the weather is sweet, and one and one is two'])\n",
    "bag = count.fit_transform(docs)\n",
    "\n",
    "print(count.vocabulary_)\n",
    "print(bag.toarray())"
   ]
  },
  {
   "cell_type": "code",
   "execution_count": 5,
   "id": "continental-liabilities",
   "metadata": {
    "execution": {
     "iopub.execute_input": "2021-04-14T02:11:18.513872Z",
     "iopub.status.busy": "2021-04-14T02:11:18.512733Z",
     "iopub.status.idle": "2021-04-14T02:11:18.517720Z",
     "shell.execute_reply": "2021-04-14T02:11:18.518373Z"
    },
    "id": "m7cV4D71OvaG",
    "outputId": "9b9253ff-e742-448e-e4e3-78681e9f606f",
    "papermill": {
     "duration": 0.042433,
     "end_time": "2021-04-14T02:11:18.518575",
     "exception": false,
     "start_time": "2021-04-14T02:11:18.476142",
     "status": "completed"
    },
    "tags": []
   },
   "outputs": [
    {
     "name": "stdout",
     "output_type": "stream",
     "text": [
      "[[0.   0.43 0.   0.56 0.56 0.   0.43 0.   0.  ]\n",
      " [0.   0.43 0.   0.   0.   0.56 0.43 0.   0.56]\n",
      " [0.5  0.45 0.5  0.19 0.19 0.19 0.3  0.25 0.19]]\n"
     ]
    }
   ],
   "source": [
    "from sklearn.feature_extraction.text import TfidfTransformer\n",
    "np.set_printoptions(precision=2)\n",
    "\n",
    "tfidf = TfidfTransformer(use_idf=True, norm='l2', smooth_idf=True)\n",
    "\n",
    "print(tfidf.fit_transform(bag).toarray())"
   ]
  },
  {
   "cell_type": "markdown",
   "id": "sixth-imagination",
   "metadata": {
    "id": "RKN8_z6evUhq",
    "papermill": {
     "duration": 0.02566,
     "end_time": "2021-04-14T02:11:18.573214",
     "exception": false,
     "start_time": "2021-04-14T02:11:18.547554",
     "status": "completed"
    },
    "tags": []
   },
   "source": [
    "# Step 2: Cleaning the data"
   ]
  },
  {
   "cell_type": "code",
   "execution_count": 6,
   "id": "critical-brown",
   "metadata": {
    "execution": {
     "iopub.execute_input": "2021-04-14T02:11:18.638496Z",
     "iopub.status.busy": "2021-04-14T02:11:18.637674Z",
     "iopub.status.idle": "2021-04-14T02:11:18.646584Z",
     "shell.execute_reply": "2021-04-14T02:11:18.645911Z"
    },
    "id": "h91jdeUYvbPi",
    "outputId": "1ee69827-1761-4436-d62c-c1ad38e422b6",
    "papermill": {
     "duration": 0.042778,
     "end_time": "2021-04-14T02:11:18.646755",
     "exception": false,
     "start_time": "2021-04-14T02:11:18.603977",
     "status": "completed"
    },
    "tags": []
   },
   "outputs": [
    {
     "data": {
      "text/plain": [
       "'testing '"
      ]
     },
     "execution_count": 6,
     "metadata": {},
     "output_type": "execute_result"
    }
   ],
   "source": [
    "import re\n",
    "def preprocessor(text):\n",
    "  text =re.sub('<[^>]*>', '', text)\n",
    "  emoticons = re.findall('(?::|;|=)(?:-)?(?:\\)|\\(|D|P)', text)\n",
    "  text = re.sub('[\\W]+', ' ', text.lower()) + ' '.join(emoticons).replace('-', '')\n",
    "  \n",
    "  return text\n",
    "\n",
    "preprocessor(\"Testing..\")"
   ]
  },
  {
   "cell_type": "code",
   "execution_count": 7,
   "id": "copyrighted-designer",
   "metadata": {
    "execution": {
     "iopub.execute_input": "2021-04-14T02:11:18.725768Z",
     "iopub.status.busy": "2021-04-14T02:11:18.698914Z",
     "iopub.status.idle": "2021-04-14T02:11:28.220344Z",
     "shell.execute_reply": "2021-04-14T02:11:28.220814Z"
    },
    "id": "c-LvnQBvxKbo",
    "papermill": {
     "duration": 9.551758,
     "end_time": "2021-04-14T02:11:28.220997",
     "exception": false,
     "start_time": "2021-04-14T02:11:18.669239",
     "status": "completed"
    },
    "tags": []
   },
   "outputs": [],
   "source": [
    "# preprocess data\n",
    "df['review'] = df['review'].apply(preprocessor)"
   ]
  },
  {
   "cell_type": "markdown",
   "id": "natural-proof",
   "metadata": {
    "id": "_YqTI3Q1pKpg",
    "papermill": {
     "duration": 0.02161,
     "end_time": "2021-04-14T02:11:28.264904",
     "exception": false,
     "start_time": "2021-04-14T02:11:28.243294",
     "status": "completed"
    },
    "tags": []
   },
   "source": [
    "# Task 3: Tokenization\n",
    "___"
   ]
  },
  {
   "cell_type": "code",
   "execution_count": 8,
   "id": "thorough-ensemble",
   "metadata": {
    "execution": {
     "iopub.execute_input": "2021-04-14T02:11:28.313745Z",
     "iopub.status.busy": "2021-04-14T02:11:28.312794Z",
     "iopub.status.idle": "2021-04-14T02:11:29.063580Z",
     "shell.execute_reply": "2021-04-14T02:11:29.063006Z"
    },
    "id": "ZDcP3IOVreyV",
    "outputId": "ba747f39-9c76-46dd-fe86-eff1026d6724",
    "papermill": {
     "duration": 0.776034,
     "end_time": "2021-04-14T02:11:29.063736",
     "exception": false,
     "start_time": "2021-04-14T02:11:28.287702",
     "status": "completed"
    },
    "tags": []
   },
   "outputs": [
    {
     "data": {
      "text/plain": [
       "['runners', 'like', 'running', 'thus', 'they', 'run']"
      ]
     },
     "execution_count": 8,
     "metadata": {},
     "output_type": "execute_result"
    }
   ],
   "source": [
    "from nltk.stem.porter import PorterStemmer\n",
    "\n",
    "porter = PorterStemmer()\n",
    "\n",
    "def tokenizer(text):\n",
    "  return text.split()\n",
    "\n",
    "def tokenizer_stemmer(text):\n",
    "  return[porter.stem(word) for word in text.split()]\n",
    "\n",
    "tokenizer('runners like running thus they run')"
   ]
  },
  {
   "cell_type": "code",
   "execution_count": 9,
   "id": "fatty-shoot",
   "metadata": {
    "execution": {
     "iopub.execute_input": "2021-04-14T02:11:29.116443Z",
     "iopub.status.busy": "2021-04-14T02:11:29.115360Z",
     "iopub.status.idle": "2021-04-14T02:11:29.120287Z",
     "shell.execute_reply": "2021-04-14T02:11:29.119724Z"
    },
    "id": "MGilfxPTtjkp",
    "outputId": "bdb0b812-89fe-4158-cbe8-fd2a92a13d86",
    "papermill": {
     "duration": 0.033184,
     "end_time": "2021-04-14T02:11:29.120449",
     "exception": false,
     "start_time": "2021-04-14T02:11:29.087265",
     "status": "completed"
    },
    "tags": []
   },
   "outputs": [
    {
     "data": {
      "text/plain": [
       "['runner', 'like', 'run', 'thu', 'they', 'run']"
      ]
     },
     "execution_count": 9,
     "metadata": {},
     "output_type": "execute_result"
    }
   ],
   "source": [
    "tokenizer_stemmer('runners like running thus they run')"
   ]
  },
  {
   "cell_type": "code",
   "execution_count": 10,
   "id": "blessed-delay",
   "metadata": {
    "execution": {
     "iopub.execute_input": "2021-04-14T02:11:29.184130Z",
     "iopub.status.busy": "2021-04-14T02:11:29.171979Z",
     "iopub.status.idle": "2021-04-14T02:11:29.452091Z",
     "shell.execute_reply": "2021-04-14T02:11:29.451436Z"
    },
    "id": "DncACLVbs0rs",
    "outputId": "1acc30e9-9955-44fb-fb00-35878c95c099",
    "papermill": {
     "duration": 0.308757,
     "end_time": "2021-04-14T02:11:29.452252",
     "exception": false,
     "start_time": "2021-04-14T02:11:29.143495",
     "status": "completed"
    },
    "tags": []
   },
   "outputs": [
    {
     "name": "stdout",
     "output_type": "stream",
     "text": [
      "[nltk_data] Downloading package stopwords to /usr/share/nltk_data...\n",
      "[nltk_data]   Package stopwords is already up-to-date!\n"
     ]
    },
    {
     "data": {
      "text/plain": [
       "True"
      ]
     },
     "execution_count": 10,
     "metadata": {},
     "output_type": "execute_result"
    }
   ],
   "source": [
    "import nltk\n",
    "nltk.download('stopwords')"
   ]
  },
  {
   "cell_type": "code",
   "execution_count": 11,
   "id": "engaged-scene",
   "metadata": {
    "execution": {
     "iopub.execute_input": "2021-04-14T02:11:29.506833Z",
     "iopub.status.busy": "2021-04-14T02:11:29.506089Z",
     "iopub.status.idle": "2021-04-14T02:11:29.518546Z",
     "shell.execute_reply": "2021-04-14T02:11:29.519327Z"
    },
    "id": "SjaxqBMks9nb",
    "outputId": "77d955b3-ccfe-4c2b-976b-75c81f365103",
    "papermill": {
     "duration": 0.042887,
     "end_time": "2021-04-14T02:11:29.519537",
     "exception": false,
     "start_time": "2021-04-14T02:11:29.476650",
     "status": "completed"
    },
    "tags": []
   },
   "outputs": [
    {
     "data": {
      "text/plain": [
       "['runner', 'like', 'run', 'thu', 'run']"
      ]
     },
     "execution_count": 11,
     "metadata": {},
     "output_type": "execute_result"
    }
   ],
   "source": [
    "from nltk.corpus import stopwords\n",
    "\n",
    "stop = stopwords.words('english')\n",
    "[w for w in tokenizer_stemmer('runners like running thus they run') if w not in stop]"
   ]
  },
  {
   "cell_type": "markdown",
   "id": "packed-playing",
   "metadata": {
    "id": "MrnlJZfnsmRB",
    "papermill": {
     "duration": 0.033183,
     "end_time": "2021-04-14T02:11:29.586103",
     "exception": false,
     "start_time": "2021-04-14T02:11:29.552920",
     "status": "completed"
    },
    "tags": []
   },
   "source": [
    "# Task 4: Transform Text Data into TF-IDF Vectors and Labeling the Sentiment Text\n",
    "___"
   ]
  },
  {
   "cell_type": "code",
   "execution_count": 12,
   "id": "figured-princeton",
   "metadata": {
    "execution": {
     "iopub.execute_input": "2021-04-14T02:11:29.648372Z",
     "iopub.status.busy": "2021-04-14T02:11:29.647412Z",
     "iopub.status.idle": "2021-04-14T02:16:25.608961Z",
     "shell.execute_reply": "2021-04-14T02:16:25.608124Z"
    },
    "id": "kCx6sZ5bswOa",
    "papermill": {
     "duration": 295.995114,
     "end_time": "2021-04-14T02:16:25.609126",
     "exception": false,
     "start_time": "2021-04-14T02:11:29.614012",
     "status": "completed"
    },
    "tags": []
   },
   "outputs": [],
   "source": [
    "from sklearn.feature_extraction.text import TfidfVectorizer\n",
    "from sklearn.preprocessing import LabelBinarizer\n",
    "\n",
    "tfidf = TfidfVectorizer(strip_accents=None,\n",
    "                         lowercase=True,\n",
    "                         preprocessor=None,  # applied preprocessor in Step 2\n",
    "                         tokenizer=tokenizer_stemmer,\n",
    "                         use_idf=True,\n",
    "                         norm='l2',\n",
    "                         smooth_idf=True)\n",
    "\n",
    "lb = LabelBinarizer() #labeling the sentient data\n",
    "y = lb.fit_transform(df.sentiment) #transformed sentiment data\n",
    "X = tfidf.fit_transform(df.review) #transformed reviews"
   ]
  },
  {
   "cell_type": "markdown",
   "id": "billion-portsmouth",
   "metadata": {
    "papermill": {
     "duration": 0.031893,
     "end_time": "2021-04-14T02:16:25.666190",
     "exception": false,
     "start_time": "2021-04-14T02:16:25.634297",
     "status": "completed"
    },
    "tags": []
   },
   "source": [
    "# Task 5: Splitting the Data into Test and Train"
   ]
  },
  {
   "cell_type": "code",
   "execution_count": 13,
   "id": "cleared-inspiration",
   "metadata": {
    "execution": {
     "iopub.execute_input": "2021-04-14T02:16:25.739274Z",
     "iopub.status.busy": "2021-04-14T02:16:25.737110Z",
     "iopub.status.idle": "2021-04-14T02:16:25.832099Z",
     "shell.execute_reply": "2021-04-14T02:16:25.831417Z"
    },
    "papermill": {
     "duration": 0.135005,
     "end_time": "2021-04-14T02:16:25.832266",
     "exception": false,
     "start_time": "2021-04-14T02:16:25.697261",
     "status": "completed"
    },
    "tags": []
   },
   "outputs": [
    {
     "name": "stdout",
     "output_type": "stream",
     "text": [
      "tv_train_reviews: (25000, 73814)\n",
      "tv_test_reviews: (25000, 73814)\n",
      "train_sentiments: (25000, 1)\n",
      "test_sentiments: (25000, 1)\n",
      "[[1]\n",
      " [1]\n",
      " [1]\n",
      " ...\n",
      " [1]\n",
      " [1]\n",
      " [0]]\n",
      "[[0]\n",
      " [0]\n",
      " [1]\n",
      " ...\n",
      " [0]\n",
      " [0]\n",
      " [0]]\n"
     ]
    }
   ],
   "source": [
    "tv_train_reviews = X[:25000]\n",
    "tv_test_reviews = X[25000:]\n",
    "\n",
    "train_sentiments = y[:25000]\n",
    "test_sentiments = y[25000:]\n",
    "\n",
    "print('tv_train_reviews:',tv_train_reviews.shape)\n",
    "print('tv_test_reviews:',tv_test_reviews.shape)\n",
    "\n",
    "\n",
    "print('train_sentiments:',train_sentiments.shape)\n",
    "print('test_sentiments:',test_sentiments.shape)\n",
    "\n",
    "print(train_sentiments)\n",
    "print(test_sentiments)"
   ]
  },
  {
   "cell_type": "markdown",
   "id": "invalid-pressure",
   "metadata": {
    "id": "hDqzZRSBxs3r",
    "papermill": {
     "duration": 0.02919,
     "end_time": "2021-04-14T02:16:25.889977",
     "exception": false,
     "start_time": "2021-04-14T02:16:25.860787",
     "status": "completed"
    },
    "tags": []
   },
   "source": [
    "# Task 5: Document Classification using Logistic Regression\n",
    "___"
   ]
  },
  {
   "cell_type": "code",
   "execution_count": 14,
   "id": "modern-trunk",
   "metadata": {
    "execution": {
     "iopub.execute_input": "2021-04-14T02:16:25.957840Z",
     "iopub.status.busy": "2021-04-14T02:16:25.956540Z",
     "iopub.status.idle": "2021-04-14T02:18:23.396890Z",
     "shell.execute_reply": "2021-04-14T02:18:23.398012Z"
    },
    "id": "0ebGfczNy2e9",
    "outputId": "49a8c5ba-a20c-4161-83f6-14f1cdfe9991",
    "papermill": {
     "duration": 117.481769,
     "end_time": "2021-04-14T02:18:23.398329",
     "exception": false,
     "start_time": "2021-04-14T02:16:25.916560",
     "status": "completed"
    },
    "tags": []
   },
   "outputs": [
    {
     "name": "stderr",
     "output_type": "stream",
     "text": [
      "/opt/conda/lib/python3.7/site-packages/sklearn/utils/validation.py:63: DataConversionWarning: A column-vector y was passed when a 1d array was expected. Please change the shape of y to (n_samples, ), for example using ravel().\n",
      "  return f(*args, **kwargs)\n",
      "[Parallel(n_jobs=-1)]: Using backend LokyBackend with 4 concurrent workers.\n",
      "[Parallel(n_jobs=-1)]: Done   2 out of   5 | elapsed:  1.2min remaining:  1.8min\n",
      "[Parallel(n_jobs=-1)]: Done   5 out of   5 | elapsed:  1.9min finished\n"
     ]
    }
   ],
   "source": [
    "import pickle\n",
    "from sklearn.linear_model import LogisticRegressionCV\n",
    "\n",
    "\n",
    "X_train = tv_train_reviews\n",
    "X_test = tv_test_reviews\n",
    "\n",
    "y_train = train_sentiments\n",
    "y_test = test_sentiments\n",
    "\n",
    "clf = LogisticRegressionCV(cv=5,\n",
    "                           scoring='accuracy',\n",
    "                           random_state=0,\n",
    "                           n_jobs=-1,\n",
    "                           verbose=3,\n",
    "                           max_iter=300).fit(X_train, y_train)"
   ]
  },
  {
   "cell_type": "code",
   "execution_count": 15,
   "id": "threaded-improvement",
   "metadata": {
    "execution": {
     "iopub.execute_input": "2021-04-14T02:18:23.536991Z",
     "iopub.status.busy": "2021-04-14T02:18:23.536346Z",
     "iopub.status.idle": "2021-04-14T02:18:23.572546Z",
     "shell.execute_reply": "2021-04-14T02:18:23.570807Z"
    },
    "id": "XvyYKbsWznIY",
    "papermill": {
     "duration": 0.097552,
     "end_time": "2021-04-14T02:18:23.572702",
     "exception": false,
     "start_time": "2021-04-14T02:18:23.475150",
     "status": "completed"
    },
    "tags": []
   },
   "outputs": [],
   "source": [
    "saved_model = open('saved_model.sav', 'wb')\n",
    "pickle.dump(clf, saved_model)\n",
    "saved_model.close()"
   ]
  },
  {
   "cell_type": "markdown",
   "id": "intermediate-native",
   "metadata": {
    "id": "4hRthxGO5hpF",
    "papermill": {
     "duration": 0.026992,
     "end_time": "2021-04-14T02:18:23.625999",
     "exception": false,
     "start_time": "2021-04-14T02:18:23.599007",
     "status": "completed"
    },
    "tags": []
   },
   "source": [
    "# Task 6: Model Evaluation\n",
    "___"
   ]
  },
  {
   "cell_type": "code",
   "execution_count": 16,
   "id": "durable-pocket",
   "metadata": {
    "execution": {
     "iopub.execute_input": "2021-04-14T02:18:23.683876Z",
     "iopub.status.busy": "2021-04-14T02:18:23.683221Z",
     "iopub.status.idle": "2021-04-14T02:18:23.727986Z",
     "shell.execute_reply": "2021-04-14T02:18:23.727386Z"
    },
    "id": "BUrG-Gni5gpW",
    "papermill": {
     "duration": 0.075304,
     "end_time": "2021-04-14T02:18:23.728136",
     "exception": false,
     "start_time": "2021-04-14T02:18:23.652832",
     "status": "completed"
    },
    "tags": []
   },
   "outputs": [],
   "source": [
    "filename = 'saved_model.sav'\n",
    "saved_clf = pickle.load(open(filename, 'rb'))"
   ]
  },
  {
   "cell_type": "code",
   "execution_count": 17,
   "id": "silver-sponsorship",
   "metadata": {
    "execution": {
     "iopub.execute_input": "2021-04-14T02:18:23.787080Z",
     "iopub.status.busy": "2021-04-14T02:18:23.785898Z",
     "iopub.status.idle": "2021-04-14T02:18:23.844720Z",
     "shell.execute_reply": "2021-04-14T02:18:23.845261Z"
    },
    "id": "mHTUMFL35yzH",
    "outputId": "d94f4e46-5688-4aa9-89d9-c6c03fa4c5c1",
    "papermill": {
     "duration": 0.090506,
     "end_time": "2021-04-14T02:18:23.845447",
     "exception": false,
     "start_time": "2021-04-14T02:18:23.754941",
     "status": "completed"
    },
    "tags": []
   },
   "outputs": [
    {
     "data": {
      "text/plain": [
       "0.89472"
      ]
     },
     "execution_count": 17,
     "metadata": {},
     "output_type": "execute_result"
    }
   ],
   "source": [
    "saved_clf.score(X_test, y_test)"
   ]
  },
  {
   "cell_type": "code",
   "execution_count": 18,
   "id": "greatest-kennedy",
   "metadata": {
    "execution": {
     "iopub.execute_input": "2021-04-14T02:18:23.905535Z",
     "iopub.status.busy": "2021-04-14T02:18:23.904680Z",
     "iopub.status.idle": "2021-04-14T02:18:23.922541Z",
     "shell.execute_reply": "2021-04-14T02:18:23.923150Z"
    },
    "id": "6VpjsQu-32az",
    "outputId": "0cbf0010-04d0-406b-cbea-977aafe28c88",
    "papermill": {
     "duration": 0.051116,
     "end_time": "2021-04-14T02:18:23.923343",
     "exception": false,
     "start_time": "2021-04-14T02:18:23.872227",
     "status": "completed"
    },
    "tags": []
   },
   "outputs": [
    {
     "name": "stdout",
     "output_type": "stream",
     "text": [
      "[0 0 1 ... 1 0 0]\n"
     ]
    }
   ],
   "source": [
    "yhat = saved_clf.predict(X_test)\n",
    "print(yhat)"
   ]
  },
  {
   "cell_type": "markdown",
   "id": "vertical-darwin",
   "metadata": {
    "id": "DdxWLBAR4EMH",
    "papermill": {
     "duration": 0.02686,
     "end_time": "2021-04-14T02:18:23.977586",
     "exception": false,
     "start_time": "2021-04-14T02:18:23.950726",
     "status": "completed"
    },
    "tags": []
   },
   "source": [
    "## Confusion matrix : Losistic Regression using TF-IDF Vector"
   ]
  },
  {
   "cell_type": "code",
   "execution_count": 19,
   "id": "fossil-patient",
   "metadata": {
    "execution": {
     "iopub.execute_input": "2021-04-14T02:18:24.045478Z",
     "iopub.status.busy": "2021-04-14T02:18:24.044756Z",
     "iopub.status.idle": "2021-04-14T02:18:24.086357Z",
     "shell.execute_reply": "2021-04-14T02:18:24.085807Z"
    },
    "id": "dULjrws94Csm",
    "outputId": "8f7fac31-662b-4fb6-fcc9-a91012d02ad7",
    "papermill": {
     "duration": 0.081628,
     "end_time": "2021-04-14T02:18:24.086510",
     "exception": false,
     "start_time": "2021-04-14T02:18:24.004882",
     "status": "completed"
    },
    "tags": []
   },
   "outputs": [
    {
     "name": "stdout",
     "output_type": "stream",
     "text": [
      "[[11045  1429]\n",
      " [ 1203 11323]]\n"
     ]
    }
   ],
   "source": [
    "import matplotlib.pyplot as plt\n",
    "from sklearn.metrics import classification_report, confusion_matrix\n",
    "import itertools\n",
    "def plot_confusion_matrix(cm, classes,\n",
    "                          normalize=False,\n",
    "                          title='Confusion matrix',\n",
    "                          cmap=plt.cm.Blues):\n",
    "    \"\"\"\n",
    "    This function prints and plots the confusion matrix.\n",
    "    Normalization can be applied by setting `normalize=True`.\n",
    "    \"\"\"\n",
    "    if normalize:\n",
    "        cm = cm.astype('float') / cm.sum(axis=1)[:, np.newaxis]\n",
    "        print(\"Normalized confusion matrix\")\n",
    "    else:\n",
    "        print('Confusion matrix, without normalization')\n",
    "\n",
    "    print(cm)\n",
    "\n",
    "    plt.imshow(cm, interpolation='nearest', cmap=cmap)\n",
    "    plt.title(title)\n",
    "    plt.colorbar()\n",
    "    tick_marks = np.arange(len(classes))\n",
    "    plt.xticks(tick_marks, classes, rotation=45)\n",
    "    plt.yticks(tick_marks, classes)\n",
    "\n",
    "    fmt = '.2f' if normalize else 'd'\n",
    "    thresh = cm.max() / 2.\n",
    "    for i, j in itertools.product(range(cm.shape[0]), range(cm.shape[1])):\n",
    "        plt.text(j, i, format(cm[i, j], fmt),\n",
    "                 horizontalalignment=\"center\",\n",
    "                 color=\"white\" if cm[i, j] > thresh else \"black\")\n",
    "\n",
    "    plt.tight_layout()\n",
    "    plt.ylabel('True label')\n",
    "    plt.xlabel('Predicted label')\n",
    "print(confusion_matrix(y_test, yhat, labels=[0,1]))"
   ]
  },
  {
   "cell_type": "code",
   "execution_count": 20,
   "id": "inside-march",
   "metadata": {
    "execution": {
     "iopub.execute_input": "2021-04-14T02:18:24.150665Z",
     "iopub.status.busy": "2021-04-14T02:18:24.149862Z",
     "iopub.status.idle": "2021-04-14T02:18:24.462358Z",
     "shell.execute_reply": "2021-04-14T02:18:24.461582Z"
    },
    "id": "t4nKywhc4U0K",
    "outputId": "940a86b4-118b-433e-d84a-c9d870fb3277",
    "papermill": {
     "duration": 0.347601,
     "end_time": "2021-04-14T02:18:24.462510",
     "exception": false,
     "start_time": "2021-04-14T02:18:24.114909",
     "status": "completed"
    },
    "tags": []
   },
   "outputs": [
    {
     "name": "stdout",
     "output_type": "stream",
     "text": [
      "Normalized confusion matrix\n",
      "[[0.9  0.1 ]\n",
      " [0.11 0.89]]\n"
     ]
    },
    {
     "data": {
      "image/png": "[encoded data removed]",
      "text/plain": [
       "<Figure size 936x360 with 2 Axes>"
      ]
     },
     "metadata": {
      "needs_background": "light"
     },
     "output_type": "display_data"
    }
   ],
   "source": [
    "import numpy as np\n",
    "# Compute confusion matrix\n",
    "cnf_matrix = confusion_matrix(y_test, yhat, labels=[1,0])\n",
    "np.set_printoptions(precision=2)\n",
    "\n",
    "\n",
    "# Plot non-normalized confusion matrix\n",
    "plt.figure(figsize=(13,5))\n",
    "plot_confusion_matrix(cnf_matrix, classes=['positive=1','negative=0'],normalize= True,  title='Confusion matrix')"
   ]
  },
  {
   "cell_type": "code",
   "execution_count": null,
   "id": "caring-contrary",
   "metadata": {
    "papermill": {
     "duration": 0.028908,
     "end_time": "2021-04-14T02:18:24.521493",
     "exception": false,
     "start_time": "2021-04-14T02:18:24.492585",
     "status": "completed"
    },
    "tags": []
   },
   "outputs": [],
   "source": []
  }
 ],
 "metadata": {
  "kernelspec": {
   "display_name": "Python 3",
   "language": "python",
   "name": "python3"
  },
  "language_info": {
   "codemirror_mode": {
    "name": "ipython",
    "version": 3
   },
   "file_extension": ".py",
   "mimetype": "text/x-python",
   "name": "python",
   "nbconvert_exporter": "python",
   "pygments_lexer": "ipython3",
   "version": "3.7.9"
  },
  "papermill": {
   "default_parameters": {},
   "duration": 437.046225,
   "end_time": "2021-04-14T02:18:25.563112",
   "environment_variables": {},
   "exception": null,
   "input_path": "__notebook__.ipynb",
   "output_path": "__notebook__.ipynb",
   "parameters": {},
   "start_time": "2021-04-14T02:11:08.516887",
   "version": "2.3.2"
  }
 },
 "nbformat": 4,
 "nbformat_minor": 5
}
